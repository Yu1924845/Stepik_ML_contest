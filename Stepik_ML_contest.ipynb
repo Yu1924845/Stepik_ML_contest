{
 "cells": [
  {
   "cell_type": "code",
   "execution_count": 1,
   "id": "10fa884b",
   "metadata": {},
   "outputs": [],
   "source": [
    "import pandas as pd\n",
    "import numpy as np\n",
    "import matplotlib.pyplot as plt\n",
    "import seaborn as sns\n",
    "from functools import reduce"
   ]
  },
  {
   "cell_type": "code",
   "execution_count": 2,
   "id": "659b920b",
   "metadata": {},
   "outputs": [],
   "source": [
    "from sklearn.metrics import roc_auc_score\n",
    "from sklearn.pipeline import make_pipeline\n",
    "from sklearn.model_selection import train_test_split, GridSearchCV\n",
    "from sklearn.ensemble import RandomForestClassifier\n",
    "from keras_tqdm import TQDMNotebookCallback"
   ]
  },
  {
   "cell_type": "code",
   "execution_count": 100,
   "id": "9ce706bf",
   "metadata": {},
   "outputs": [],
   "source": [
    "def train(df1, df2):\n",
    "    #Переводим timestamp в дату\n",
    "    df1['date'] = pd.to_datetime(df1['timestamp'], unit='s')\n",
    "    df1['day'] = df1['date'].dt.date\n",
    "    \n",
    "    #Отбираем 2 дня\n",
    "    df1_2_days = df1[df1.groupby('user_id')['timestamp']\\\n",
    "                        .apply(lambda x: x <= (x.min()+ 2*24*60*60))]\n",
    "    df2_2_days = df2[df2.groupby('user_id')['timestamp']\\\n",
    "                        .apply(lambda x: x <= (x.min()+ 2*24*60*60))]\n",
    "    \n",
    "    #Считаем количество действий для каждого пользователя\n",
    "    users_score = df1_2_days.pivot_table(values = 'step_id',\n",
    "                                         index='user_id',\n",
    "                                         columns='action',\n",
    "                                         aggfunc='count',\n",
    "                                         fill_value=0).reset_index()\n",
    "    #Считаем количество сабмитов для каждого пользователя\n",
    "    submission_score = df2_2_days.pivot_table(values='step_id',\n",
    "                                              index='user_id',\n",
    "                                              columns='submission_status',\n",
    "                                              aggfunc='count',\n",
    "                                              fill_value=0).reset_index()\n",
    "    #Считаем количество степов\n",
    "    steps_tried = df2_2_days.groupby('user_id', as_index=False)\\\n",
    "                            .step_id.nunique()\\\n",
    "                            .rename(columns={'step_id':'steps_tried'})\n",
    "    #Считаем количество уникальных дней активности пользователя\n",
    "    nunique_day = df1_2_days.groupby('user_id', as_index=False).day.nunique()\n",
    "    \n",
    "    #Определяем, что пользователь закончит курс, если набрал больше 40 баллов\n",
    "    submission_corrects = df2.query('submission_status==\"correct\"')\\\n",
    "                            .groupby('user_id', as_index=False)\\\n",
    "                            .agg({'step_id':'count'})\\\n",
    "                            .rename(columns={'step_id': 'corrects'})\n",
    "    submission_corrects['is_gone'] = np.where(submission_corrects.corrects >= 40, 1, 0)\n",
    "    submission_corrects = submission_corrects.drop('corrects',axis=1)\n",
    "    \n",
    "    #Объединяем датасеты\n",
    "    data_frames = [users_score, submission_score,steps_tried, submission_corrects,nunique_day]\n",
    "    users_score = reduce(lambda x, y: pd.merge(x, y, on='user_id', how='left'), data_frames).fillna(0)\n",
    "    \n",
    "    #Считаем соотношение правильных ответов ко всем\n",
    "    users_score['correct_ratio'] = round((users_score.correct/(users_score.correct+users_score.wrong)), 2).fillna(0)\n",
    "    \n",
    "    return users_score"
   ]
  },
  {
   "cell_type": "code",
   "execution_count": 101,
   "id": "7f14a684",
   "metadata": {},
   "outputs": [],
   "source": [
    "def test(df1, df2):\n",
    "    #Переводим timestamp в дату\n",
    "    df1['date'] = pd.to_datetime(df1['timestamp'], unit='s')\n",
    "    df1['day'] = df1['date'].dt.date\n",
    "    #Считаем количество действий для каждого пользователя\n",
    "    users_score = df1.pivot_table(values = 'step_id',\n",
    "                                  index='user_id',\n",
    "                                  columns='action',\n",
    "                                  aggfunc='count',\n",
    "                                  fill_value=0).reset_index()\n",
    "    #Считаем количество сабмитов для каждого пользователя\n",
    "    submission_score = df2.pivot_table(values='step_id',\n",
    "                                       index='user_id',\n",
    "                                       columns='submission_status',\n",
    "                                       aggfunc='count',\n",
    "                                       fill_value=0).reset_index()\n",
    "    #Считаем количество степов\n",
    "    steps_tried = df2.groupby('user_id', as_index=False)\\\n",
    "                    .step_id.nunique()\\\n",
    "                    .rename(columns={'step_id':'steps_tried'})\n",
    "    #Считаем количество уникальных дней активности пользователя\n",
    "    nunique_day = df1.groupby('user_id', as_index=False).day.nunique()\n",
    "    \n",
    "    #Объединяем датасеты\n",
    "    data_frames = [users_score, submission_score, steps_tried, nunique_day]\n",
    "    users_score = reduce(lambda x, y: pd.merge(x, y, on='user_id', how='left'), data_frames).fillna(0)\n",
    "    #Считаем соотношение правильных ответов ко всем\n",
    "    users_score['correct_ratio'] = round((users_score.correct/(users_score.correct+users_score.wrong)), 2).fillna(0)\n",
    "\n",
    "    return users_score"
   ]
  },
  {
   "cell_type": "markdown",
   "id": "a1557264",
   "metadata": {},
   "source": [
    "Считываем исходные данные"
   ]
  },
  {
   "cell_type": "code",
   "execution_count": 102,
   "id": "9caf34be",
   "metadata": {},
   "outputs": [
    {
     "data": {
      "text/html": [
       "<div>\n",
       "<style scoped>\n",
       "    .dataframe tbody tr th:only-of-type {\n",
       "        vertical-align: middle;\n",
       "    }\n",
       "\n",
       "    .dataframe tbody tr th {\n",
       "        vertical-align: top;\n",
       "    }\n",
       "\n",
       "    .dataframe thead th {\n",
       "        text-align: right;\n",
       "    }\n",
       "</style>\n",
       "<table border=\"1\" class=\"dataframe\">\n",
       "  <thead>\n",
       "    <tr style=\"text-align: right;\">\n",
       "      <th></th>\n",
       "      <th>step_id</th>\n",
       "      <th>timestamp</th>\n",
       "      <th>action</th>\n",
       "      <th>user_id</th>\n",
       "    </tr>\n",
       "  </thead>\n",
       "  <tbody>\n",
       "    <tr>\n",
       "      <th>0</th>\n",
       "      <td>32815</td>\n",
       "      <td>1434340848</td>\n",
       "      <td>viewed</td>\n",
       "      <td>17632</td>\n",
       "    </tr>\n",
       "    <tr>\n",
       "      <th>1</th>\n",
       "      <td>32815</td>\n",
       "      <td>1434340848</td>\n",
       "      <td>passed</td>\n",
       "      <td>17632</td>\n",
       "    </tr>\n",
       "    <tr>\n",
       "      <th>2</th>\n",
       "      <td>32815</td>\n",
       "      <td>1434340848</td>\n",
       "      <td>discovered</td>\n",
       "      <td>17632</td>\n",
       "    </tr>\n",
       "    <tr>\n",
       "      <th>3</th>\n",
       "      <td>32811</td>\n",
       "      <td>1434340895</td>\n",
       "      <td>discovered</td>\n",
       "      <td>17632</td>\n",
       "    </tr>\n",
       "    <tr>\n",
       "      <th>4</th>\n",
       "      <td>32811</td>\n",
       "      <td>1434340895</td>\n",
       "      <td>viewed</td>\n",
       "      <td>17632</td>\n",
       "    </tr>\n",
       "  </tbody>\n",
       "</table>\n",
       "</div>"
      ],
      "text/plain": [
       "   step_id   timestamp      action  user_id\n",
       "0    32815  1434340848      viewed    17632\n",
       "1    32815  1434340848      passed    17632\n",
       "2    32815  1434340848  discovered    17632\n",
       "3    32811  1434340895  discovered    17632\n",
       "4    32811  1434340895      viewed    17632"
      ]
     },
     "execution_count": 102,
     "metadata": {},
     "output_type": "execute_result"
    }
   ],
   "source": [
    "event_data=pd.read_csv('C:/Users/809688/event_data_train.csv')\n",
    "event_data.head()"
   ]
  },
  {
   "cell_type": "code",
   "execution_count": 103,
   "id": "b4839d5e",
   "metadata": {},
   "outputs": [
    {
     "data": {
      "text/html": [
       "<div>\n",
       "<style scoped>\n",
       "    .dataframe tbody tr th:only-of-type {\n",
       "        vertical-align: middle;\n",
       "    }\n",
       "\n",
       "    .dataframe tbody tr th {\n",
       "        vertical-align: top;\n",
       "    }\n",
       "\n",
       "    .dataframe thead th {\n",
       "        text-align: right;\n",
       "    }\n",
       "</style>\n",
       "<table border=\"1\" class=\"dataframe\">\n",
       "  <thead>\n",
       "    <tr style=\"text-align: right;\">\n",
       "      <th></th>\n",
       "      <th>step_id</th>\n",
       "      <th>timestamp</th>\n",
       "      <th>submission_status</th>\n",
       "      <th>user_id</th>\n",
       "    </tr>\n",
       "  </thead>\n",
       "  <tbody>\n",
       "    <tr>\n",
       "      <th>0</th>\n",
       "      <td>31971</td>\n",
       "      <td>1434349275</td>\n",
       "      <td>correct</td>\n",
       "      <td>15853</td>\n",
       "    </tr>\n",
       "    <tr>\n",
       "      <th>1</th>\n",
       "      <td>31972</td>\n",
       "      <td>1434348300</td>\n",
       "      <td>correct</td>\n",
       "      <td>15853</td>\n",
       "    </tr>\n",
       "    <tr>\n",
       "      <th>2</th>\n",
       "      <td>31972</td>\n",
       "      <td>1478852149</td>\n",
       "      <td>wrong</td>\n",
       "      <td>15853</td>\n",
       "    </tr>\n",
       "    <tr>\n",
       "      <th>3</th>\n",
       "      <td>31972</td>\n",
       "      <td>1478852164</td>\n",
       "      <td>correct</td>\n",
       "      <td>15853</td>\n",
       "    </tr>\n",
       "    <tr>\n",
       "      <th>4</th>\n",
       "      <td>31976</td>\n",
       "      <td>1434348123</td>\n",
       "      <td>wrong</td>\n",
       "      <td>15853</td>\n",
       "    </tr>\n",
       "  </tbody>\n",
       "</table>\n",
       "</div>"
      ],
      "text/plain": [
       "   step_id   timestamp submission_status  user_id\n",
       "0    31971  1434349275           correct    15853\n",
       "1    31972  1434348300           correct    15853\n",
       "2    31972  1478852149             wrong    15853\n",
       "3    31972  1478852164           correct    15853\n",
       "4    31976  1434348123             wrong    15853"
      ]
     },
     "execution_count": 103,
     "metadata": {},
     "output_type": "execute_result"
    }
   ],
   "source": [
    "submissions_data = pd.read_csv(\"C:/Users/809688/submissions_data_train.csv\")\n",
    "submissions_data.head()"
   ]
  },
  {
   "cell_type": "markdown",
   "id": "0e52cc39",
   "metadata": {},
   "source": [
    "Создаем обучающий датасет"
   ]
  },
  {
   "cell_type": "code",
   "execution_count": 104,
   "id": "d42019b3",
   "metadata": {},
   "outputs": [],
   "source": [
    "train_df = train(event_data, submissions_data)"
   ]
  },
  {
   "cell_type": "code",
   "execution_count": 105,
   "id": "0edabe64",
   "metadata": {},
   "outputs": [
    {
     "data": {
      "text/plain": [
       "<AxesSubplot:>"
      ]
     },
     "execution_count": 105,
     "metadata": {},
     "output_type": "execute_result"
    },
    {
     "data": {
      "image/png": "[encoded data removed]",
      "text/plain": [
       "<Figure size 864x864 with 2 Axes>"
      ]
     },
     "metadata": {
      "needs_background": "light"
     },
     "output_type": "display_data"
    }
   ],
   "source": [
    "plt.figure(figsize=(12,12))\n",
    "sns.heatmap(train_df.corr(),annot=True)"
   ]
  },
  {
   "cell_type": "code",
   "execution_count": 106,
   "id": "9ff8e933",
   "metadata": {},
   "outputs": [],
   "source": [
    "y = train_df.is_gone"
   ]
  },
  {
   "cell_type": "markdown",
   "id": "2da38499",
   "metadata": {},
   "source": [
    "Удаляем из обучающей выборки целевую переменную, а также user_id."
   ]
  },
  {
   "cell_type": "code",
   "execution_count": 107,
   "id": "ddae137a",
   "metadata": {},
   "outputs": [],
   "source": [
    "train_df = train_df.drop(['is_gone', 'user_id'], axis=1)"
   ]
  },
  {
   "cell_type": "code",
   "execution_count": 108,
   "id": "e89d8270",
   "metadata": {},
   "outputs": [],
   "source": [
    "X_train, X_test, y_train, y_test = train_test_split(train_df,y, test_size=0.2, random_state=42)"
   ]
  },
  {
   "cell_type": "markdown",
   "id": "64260d0c",
   "metadata": {},
   "source": [
    "Создаем классификатор"
   ]
  },
  {
   "cell_type": "code",
   "execution_count": 109,
   "id": "65656cde",
   "metadata": {},
   "outputs": [],
   "source": [
    "pipe = make_pipeline(RandomForestClassifier())"
   ]
  },
  {
   "cell_type": "code",
   "execution_count": 110,
   "id": "5c49a364",
   "metadata": {},
   "outputs": [
    {
     "data": {
      "text/plain": [
       "Pipeline(steps=[('randomforestclassifier', RandomForestClassifier())])"
      ]
     },
     "execution_count": 110,
     "metadata": {},
     "output_type": "execute_result"
    }
   ],
   "source": [
    "pipe.fit(X_train, y_train)"
   ]
  },
  {
   "cell_type": "code",
   "execution_count": 111,
   "id": "97017193",
   "metadata": {},
   "outputs": [],
   "source": [
    "parametrs={'randomforestclassifier__n_estimators': range(20, 40, 2), \n",
    "                  'randomforestclassifier__max_depth': range(3, 8)}"
   ]
  },
  {
   "cell_type": "code",
   "execution_count": 112,
   "id": "4e133b9a",
   "metadata": {},
   "outputs": [],
   "source": [
    "grid_search = GridSearchCV(pipe, parametrs, cv = 5)"
   ]
  },
  {
   "cell_type": "code",
   "execution_count": 113,
   "id": "fc25270a",
   "metadata": {},
   "outputs": [
    {
     "data": {
      "text/plain": [
       "GridSearchCV(cv=5,\n",
       "             estimator=Pipeline(steps=[('randomforestclassifier',\n",
       "                                        RandomForestClassifier())]),\n",
       "             param_grid={'randomforestclassifier__max_depth': range(3, 8),\n",
       "                         'randomforestclassifier__n_estimators': range(20, 40, 2)})"
      ]
     },
     "execution_count": 113,
     "metadata": {},
     "output_type": "execute_result"
    }
   ],
   "source": [
    "grid_search.fit(X_train, y_train)"
   ]
  },
  {
   "cell_type": "code",
   "execution_count": 114,
   "id": "7c370b9c",
   "metadata": {},
   "outputs": [
    {
     "data": {
      "text/plain": [
       "Pipeline(steps=[('randomforestclassifier',\n",
       "                 RandomForestClassifier(max_depth=4, n_estimators=30))])"
      ]
     },
     "execution_count": 114,
     "metadata": {},
     "output_type": "execute_result"
    }
   ],
   "source": [
    "grid_search.best_estimator_"
   ]
  },
  {
   "cell_type": "code",
   "execution_count": 115,
   "id": "6729c0c5",
   "metadata": {},
   "outputs": [],
   "source": [
    "best_estimator = grid_search.best_estimator_"
   ]
  },
  {
   "cell_type": "markdown",
   "id": "65ec2bf5",
   "metadata": {},
   "source": [
    "Проверяем точность классификатора на обучающей выборке"
   ]
  },
  {
   "cell_type": "code",
   "execution_count": 116,
   "id": "e0aa0d51",
   "metadata": {},
   "outputs": [
    {
     "data": {
      "text/plain": [
       "0.9068694352375382"
      ]
     },
     "execution_count": 116,
     "metadata": {},
     "output_type": "execute_result"
    }
   ],
   "source": [
    "best_estimator.score(X_train, y_train)"
   ]
  },
  {
   "cell_type": "code",
   "execution_count": 117,
   "id": "63ae50bc",
   "metadata": {},
   "outputs": [
    {
     "data": {
      "text/plain": [
       "0.9020015596568755"
      ]
     },
     "execution_count": 117,
     "metadata": {},
     "output_type": "execute_result"
    }
   ],
   "source": [
    "best_estimator.score(X_test, y_test)"
   ]
  },
  {
   "cell_type": "code",
   "execution_count": 118,
   "id": "81e5d032",
   "metadata": {},
   "outputs": [],
   "source": [
    "ypred_prob = best_estimator.predict_proba(X_test)"
   ]
  },
  {
   "cell_type": "code",
   "execution_count": 119,
   "id": "0a2f4a72",
   "metadata": {},
   "outputs": [
    {
     "data": {
      "text/plain": [
       "0.8754697889563458"
      ]
     },
     "execution_count": 119,
     "metadata": {},
     "output_type": "execute_result"
    }
   ],
   "source": [
    "roc_auc_score(y_test, ypred_prob[:, 1])"
   ]
  },
  {
   "cell_type": "code",
   "execution_count": 120,
   "id": "42aa6433",
   "metadata": {},
   "outputs": [
    {
     "data": {
      "text/plain": [
       "<sklearn.metrics._plot.roc_curve.RocCurveDisplay at 0x2df4c20a310>"
      ]
     },
     "execution_count": 120,
     "metadata": {},
     "output_type": "execute_result"
    },
    {
     "data": {
      "image/png": "[encoded data removed]",
      "text/plain": [
       "<Figure size 432x288 with 1 Axes>"
      ]
     },
     "metadata": {
      "needs_background": "light"
     },
     "output_type": "display_data"
    }
   ],
   "source": [
    "from sklearn import metrics\n",
    "\n",
    "metrics.plot_roc_curve(best_estimator,X_test, y_test)"
   ]
  },
  {
   "cell_type": "markdown",
   "id": "9bdd2430",
   "metadata": {},
   "source": [
    "Подгружаем тестовые данные"
   ]
  },
  {
   "cell_type": "code",
   "execution_count": 121,
   "id": "8f7b22d4",
   "metadata": {},
   "outputs": [],
   "source": [
    "events_data_test = pd.read_csv('C:/Users/809688/events_data_test.csv')"
   ]
  },
  {
   "cell_type": "code",
   "execution_count": 122,
   "id": "7d8773a4",
   "metadata": {},
   "outputs": [],
   "source": [
    "submission_data_test = pd.read_csv('C:/Users/809688/submission_data_test.csv')"
   ]
  },
  {
   "cell_type": "markdown",
   "id": "7db5a15f",
   "metadata": {},
   "source": [
    "Создаем тестовый датасет"
   ]
  },
  {
   "cell_type": "code",
   "execution_count": 123,
   "id": "64eaa5d6",
   "metadata": {},
   "outputs": [],
   "source": [
    "test = test(events_data_test, submission_data_test)"
   ]
  },
  {
   "cell_type": "code",
   "execution_count": 124,
   "id": "478343e0",
   "metadata": {},
   "outputs": [],
   "source": [
    "X_test_f = test.drop(['user_id'], axis=1)"
   ]
  },
  {
   "cell_type": "code",
   "execution_count": 125,
   "id": "af520fa7",
   "metadata": {},
   "outputs": [],
   "source": [
    "y_pred_f = best_estimator.predict_proba(X_test_f)"
   ]
  },
  {
   "cell_type": "markdown",
   "id": "10f00f8c",
   "metadata": {},
   "source": [
    "Загружаем полученные данные в файл"
   ]
  },
  {
   "cell_type": "code",
   "execution_count": 127,
   "id": "a40022d4",
   "metadata": {},
   "outputs": [],
   "source": [
    "result = test['user_id'].to_frame()"
   ]
  },
  {
   "cell_type": "code",
   "execution_count": 128,
   "id": "64faf3e5",
   "metadata": {},
   "outputs": [],
   "source": [
    "result['is_gone'] = y_pred_f[:,1]"
   ]
  },
  {
   "cell_type": "code",
   "execution_count": 129,
   "id": "2302ae63",
   "metadata": {},
   "outputs": [],
   "source": [
    "result[['user_id', 'is_gone']].to_csv('my_predict.csv', index=False)"
   ]
  },
  {
   "cell_type": "markdown",
   "id": "50525b2e",
   "metadata": {},
   "source": [
    "Финальный результат на тестовой выборке \n",
    "Your ROC score is 0.8902669399801331"
   ]
  },
  {
   "cell_type": "code",
   "execution_count": null,
   "id": "21d77fba",
   "metadata": {},
   "outputs": [],
   "source": []
  }
 ],
 "metadata": {
  "kernelspec": {
   "display_name": "Python 3",
   "language": "python",
   "name": "python3"
  },
  "language_info": {
   "codemirror_mode": {
    "name": "ipython",
    "version": 3
   },
   "file_extension": ".py",
   "mimetype": "text/x-python",
   "name": "python",
   "nbconvert_exporter": "python",
   "pygments_lexer": "ipython3",
   "version": "3.8.8"
  }
 },
 "nbformat": 4,
 "nbformat_minor": 5
}
